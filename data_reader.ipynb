{
  "nbformat": 4,
  "nbformat_minor": 0,
  "metadata": {
    "colab": {
      "provenance": [],
      "gpuType": "T4",
      "mount_file_id": "1K3tuZbTO_iAj_9r2LC9gDLEqbOfBsJ69",
      "authorship_tag": "ABX9TyMnh3VizMjqNRVBtuGkXCA8",
      "include_colab_link": true
    },
    "kernelspec": {
      "name": "python3",
      "display_name": "Python 3"
    },
    "language_info": {
      "name": "python"
    },
    "accelerator": "GPU"
  },
  "cells": [
    {
      "cell_type": "markdown",
      "metadata": {
        "id": "view-in-github",
        "colab_type": "text"
      },
      "source": [
        "<a href=\"https://colab.research.google.com/github/raspberryscorn/2_5_2/blob/main/data_reader.ipynb\" target=\"_parent\"><img src=\"https://colab.research.google.com/assets/colab-badge.svg\" alt=\"Open In Colab\"/></a>"
      ]
    },
    {
      "cell_type": "markdown",
      "source": [
        "2_5_2 \"AI는 꽃을 구분할 수 있을까?\""
      ],
      "metadata": {
        "id": "5WnKp6cAUwq4"
      }
    },
    {
      "cell_type": "code",
      "source": [
        "cd \"/content/drive/MyDrive/ddeep/bhban_ai/SECTION_2/Chapter_5/2_5_2\""
      ],
      "metadata": {
        "colab": {
          "base_uri": "https://localhost:8080/"
        },
        "id": "5TU7gajbO0l1",
        "outputId": "aeeda6d8-bb68-4afa-a49e-8c5d3a2cab2f"
      },
      "execution_count": null,
      "outputs": [
        {
          "output_type": "stream",
          "name": "stdout",
          "text": [
            "/content/drive/MyDrive/ddeep/bhban_ai/SECTION_2/Chapter_5/2_5_2\n"
          ]
        }
      ]
    },
    {
      "cell_type": "code",
      "execution_count": null,
      "metadata": {
        "id": "-W-LogtMA1iQ"
      },
      "outputs": [],
      "source": [
        "import random\n",
        "\n",
        "import time\n",
        "try:\n",
        "    from matplotlib import pyplot as plt\n",
        "except ModuleNotFoundError:\n",
        "    import pip\n",
        "    pip.main(['install', 'matplotlib'])\n",
        "    try:\n",
        "        from matplotlib import pyplot as plt\n",
        "    except ModuleNotFoundError:\n",
        "        time.sleep(2)\n",
        "        from matplotlib import pyplot as plt\n",
        "\n",
        "try:\n",
        "    import numpy as np\n",
        "except ModuleNotFoundError:\n",
        "    import pip\n",
        "    pip.main(['install', 'numpy'])\n",
        "    try:\n",
        "        import numpy as np\n",
        "    except ModuleNotFoundError:\n",
        "        time.sleep(2)\n",
        "        import numpy as np\n",
        "\n",
        "\n",
        "# 데이터를 떠먹여 줄 클래스를 제작합니다.\n",
        "class DataReader():\n",
        "    def __init__(self):\n",
        "        self.label = [\"Iris-setosa\", \"Iris-versicolor\", \"Iris-virginica\"]\n",
        "\n",
        "        self.train_X, self.train_Y, self.test_X, self.test_Y = self.read_data()\n",
        "\n",
        "        # 데이터 읽기가 완료되었습니다.\n",
        "        # 읽어온 데이터의 정보를 출력합니다.\n",
        "        print(\"\\n\\nData Read Done!\")\n",
        "        print(\"Training X Size : \" + str(self.train_X.shape))\n",
        "        print(\"Training Y Size : \" + str(self.train_Y.shape))\n",
        "        print(\"Test X Size : \" + str(self.test_X.shape))\n",
        "        print(\"Test Y Size : \" + str(self.test_Y.shape) + '\\n\\n')\n",
        "\n",
        "    def read_data(self):\n",
        "        print(\"Reading Data...\")\n",
        "        file = open(\"data/iris.csv\")\n",
        "        data = []\n",
        "        for line in file:\n",
        "            splt = line.split(\",\")\n",
        "            if len(splt) != 5:\n",
        "              break\n",
        "            feature_1 = float(splt[0].strip())\n",
        "            feature_2 = float(splt[1].strip())\n",
        "            feature_3 = float(splt[2].strip())\n",
        "            feature_4 = float(splt[3].strip())\n",
        "            label = self.label.index(splt[4].strip())\n",
        "            data.append(((feature_1, feature_2, feature_3, feature_4), label))\n",
        "\n",
        "        random.shuffle(data)\n",
        "\n",
        "        X = []\n",
        "        Y = []\n",
        "\n",
        "        for el in data:\n",
        "            X.append(el[0])\n",
        "            Y.append(el[1])\n",
        "\n",
        "        X = np.asarray(X)\n",
        "        Y = np.asarray(Y)\n",
        "\n",
        "        X = X / np.max(X, axis=0)\n",
        "\n",
        "        train_X = X[:int(len(X)*0.8)]\n",
        "        train_Y = Y[:int(len(Y)*0.8)]\n",
        "        test_X = X[int(len(X)*0.8):]\n",
        "        test_Y = Y[int(len(Y)*0.8):]\n",
        "\n",
        "        return train_X, train_Y, test_X, test_Y\n",
        "\n",
        "\n",
        "def draw_graph(history):\n",
        "    train_history = history.history[\"loss\"]\n",
        "    validation_history = history.history[\"val_loss\"]\n",
        "    fig = plt.figure(figsize=(8, 8))\n",
        "    plt.title(\"Loss History\")\n",
        "    plt.xlabel(\"EPOCH\")\n",
        "    plt.ylabel(\"LOSS Function\")\n",
        "    plt.plot(train_history, \"red\")\n",
        "    plt.plot(validation_history, 'blue')\n",
        "    fig.savefig(\"train_history.png\")\n",
        "\n",
        "    train_history = history.history[\"accuracy\"]\n",
        "    validation_history = history.history[\"val_accuracy\"]\n",
        "    fig = plt.figure(figsize=(8, 8))\n",
        "    plt.title(\"Accuracy History\")\n",
        "    plt.xlabel(\"EPOCH\")\n",
        "    plt.ylabel(\"Accuracy\")\n",
        "    plt.plot(train_history, \"red\")\n",
        "    plt.plot(validation_history, 'blue')\n",
        "    fig.savefig(\"accuracy_history.png\")\n"
      ]
    }
  ]
}